{
 "cells": [
  {
   "metadata": {},
   "cell_type": "markdown",
   "source": "# Datacamp Nobel Prize analysis",
   "id": "8a77807f92f26ee"
  },
  {
   "metadata": {
    "ExecuteTime": {
     "end_time": "2024-05-20T17:42:17.163268Z",
     "start_time": "2024-05-20T17:42:17.161235Z"
    }
   },
   "cell_type": "code",
   "source": [
    "# Import libraries\n",
    "import numpy as np\n",
    "import pandas as pd\n",
    "import matplotlib.pyplot as plt\n",
    "import seaborn as sns"
   ],
   "id": "7df9140457caed5e",
   "outputs": [],
   "execution_count": 1
  },
  {
   "metadata": {
    "ExecuteTime": {
     "end_time": "2024-05-20T17:42:20.186941Z",
     "start_time": "2024-05-20T17:42:20.169560Z"
    }
   },
   "cell_type": "code",
   "source": [
    "# Importing the data\n",
    "data = pd.read_csv('data/nobel.csv')\n",
    "\n",
    "# Exploring the data\n",
    "print(f'Data columns: {data.columns} \\n\\n')\n",
    "print(f'Data basic information: {data.info()}\\n\\n')\n",
    "print(f'Data sample rows: {data.head(3)}')"
   ],
   "id": "c2121b098bab551",
   "outputs": [
    {
     "name": "stdout",
     "output_type": "stream",
     "text": [
      "Data columns: Index(['year', 'category', 'prize', 'motivation', 'prize_share', 'laureate_id',\n",
      "       'laureate_type', 'full_name', 'birth_date', 'birth_city',\n",
      "       'birth_country', 'sex', 'organization_name', 'organization_city',\n",
      "       'organization_country', 'death_date', 'death_city', 'death_country'],\n",
      "      dtype='object') \n",
      "\n",
      "\n",
      "<class 'pandas.core.frame.DataFrame'>\n",
      "RangeIndex: 1000 entries, 0 to 999\n",
      "Data columns (total 18 columns):\n",
      " #   Column                Non-Null Count  Dtype \n",
      "---  ------                --------------  ----- \n",
      " 0   year                  1000 non-null   int64 \n",
      " 1   category              1000 non-null   object\n",
      " 2   prize                 1000 non-null   object\n",
      " 3   motivation            912 non-null    object\n",
      " 4   prize_share           1000 non-null   object\n",
      " 5   laureate_id           1000 non-null   int64 \n",
      " 6   laureate_type         1000 non-null   object\n",
      " 7   full_name             1000 non-null   object\n",
      " 8   birth_date            968 non-null    object\n",
      " 9   birth_city            964 non-null    object\n",
      " 10  birth_country         969 non-null    object\n",
      " 11  sex                   970 non-null    object\n",
      " 12  organization_name     736 non-null    object\n",
      " 13  organization_city     735 non-null    object\n",
      " 14  organization_country  735 non-null    object\n",
      " 15  death_date            596 non-null    object\n",
      " 16  death_city            579 non-null    object\n",
      " 17  death_country         585 non-null    object\n",
      "dtypes: int64(2), object(16)\n",
      "memory usage: 140.8+ KB\n",
      "Data basic information: None\n",
      "\n",
      "\n",
      "Data sample rows:    year    category                                           prize  \\\n",
      "0  1901   Chemistry               The Nobel Prize in Chemistry 1901   \n",
      "1  1901  Literature              The Nobel Prize in Literature 1901   \n",
      "2  1901    Medicine  The Nobel Prize in Physiology or Medicine 1901   \n",
      "\n",
      "                                          motivation prize_share  laureate_id  \\\n",
      "0  \"in recognition of the extraordinary services ...         1/1          160   \n",
      "1  \"in special recognition of his poetic composit...         1/1          569   \n",
      "2  \"for his work on serum therapy, especially its...         1/1          293   \n",
      "\n",
      "  laureate_type                     full_name  birth_date         birth_city  \\\n",
      "0    Individual  Jacobus Henricus van 't Hoff  1852-08-30          Rotterdam   \n",
      "1    Individual               Sully Prudhomme  1839-03-16              Paris   \n",
      "2    Individual        Emil Adolf von Behring  1854-03-15  Hansdorf (Lawice)   \n",
      "\n",
      "      birth_country   sex   organization_name organization_city  \\\n",
      "0       Netherlands  Male   Berlin University            Berlin   \n",
      "1            France  Male                 NaN               NaN   \n",
      "2  Prussia (Poland)  Male  Marburg University           Marburg   \n",
      "\n",
      "  organization_country  death_date death_city death_country  \n",
      "0              Germany  1911-03-01     Berlin       Germany  \n",
      "1                  NaN  1907-09-07   Châtenay        France  \n",
      "2              Germany  1917-03-31    Marburg       Germany  \n"
     ]
    }
   ],
   "execution_count": 2
  },
  {
   "metadata": {
    "ExecuteTime": {
     "end_time": "2024-05-20T17:42:24.062943Z",
     "start_time": "2024-05-20T17:42:24.051497Z"
    }
   },
   "cell_type": "code",
   "source": [
    "# Fixing the categories\n",
    "# data['year'] = data['year'].astype('category')\n",
    "data['category'] = data['category'].astype('category')\n",
    "data['prize_share'] = data['prize_share'].astype('category')\n",
    "data['laureate_type'] = data['laureate_type'].astype('category')\n",
    "data['sex'] = data['sex'].astype('category')\n",
    "\n",
    "data.info()"
   ],
   "id": "52d0e0645d17c97a",
   "outputs": [
    {
     "name": "stdout",
     "output_type": "stream",
     "text": [
      "<class 'pandas.core.frame.DataFrame'>\n",
      "RangeIndex: 1000 entries, 0 to 999\n",
      "Data columns (total 18 columns):\n",
      " #   Column                Non-Null Count  Dtype   \n",
      "---  ------                --------------  -----   \n",
      " 0   year                  1000 non-null   int64   \n",
      " 1   category              1000 non-null   category\n",
      " 2   prize                 1000 non-null   object  \n",
      " 3   motivation            912 non-null    object  \n",
      " 4   prize_share           1000 non-null   category\n",
      " 5   laureate_id           1000 non-null   int64   \n",
      " 6   laureate_type         1000 non-null   category\n",
      " 7   full_name             1000 non-null   object  \n",
      " 8   birth_date            968 non-null    object  \n",
      " 9   birth_city            964 non-null    object  \n",
      " 10  birth_country         969 non-null    object  \n",
      " 11  sex                   970 non-null    category\n",
      " 12  organization_name     736 non-null    object  \n",
      " 13  organization_city     735 non-null    object  \n",
      " 14  organization_country  735 non-null    object  \n",
      " 15  death_date            596 non-null    object  \n",
      " 16  death_city            579 non-null    object  \n",
      " 17  death_country         585 non-null    object  \n",
      "dtypes: category(4), int64(2), object(12)\n",
      "memory usage: 114.1+ KB\n"
     ]
    }
   ],
   "execution_count": 3
  },
  {
   "metadata": {
    "ExecuteTime": {
     "end_time": "2024-05-20T17:42:27.392018Z",
     "start_time": "2024-05-20T17:42:27.387138Z"
    }
   },
   "cell_type": "code",
   "source": [
    "# Question 1\n",
    "\n",
    "top_gender = data.groupby('sex')['laureate_id'].agg('count').sort_values(ascending=False).index[0]\n",
    "print(top_gender)\n",
    "\n",
    "top_country = data.groupby('birth_country')['laureate_id'].agg('count').sort_values(ascending=False).index[0]\n",
    "print(top_country)"
   ],
   "id": "d035ed3abc4a752",
   "outputs": [
    {
     "name": "stdout",
     "output_type": "stream",
     "text": [
      "Male\n",
      "United States of America\n"
     ]
    }
   ],
   "execution_count": 4
  },
  {
   "metadata": {
    "ExecuteTime": {
     "end_time": "2024-05-19T10:27:26.227994Z",
     "start_time": "2024-05-19T10:27:26.110101Z"
    }
   },
   "cell_type": "code",
   "source": [
    "# Plotting question 1\n",
    "sns.set_palette('RdBu')\n",
    "g = sns.catplot(data=data, x='sex', kind='count')\n",
    "g.fig.suptitle('Nobel Prize Winners per Gender', y = 1.05)\n",
    "plt.show()"
   ],
   "id": "257ead08552ed780",
   "outputs": [
    {
     "name": "stderr",
     "output_type": "stream",
     "text": [
      "/home/carlos/.conda/envs/conda_data_analysis/lib/python3.8/site-packages/seaborn/axisgrid.py:118: UserWarning: The figure layout has changed to tight\n",
      "  self._figure.tight_layout(*args, **kwargs)\n"
     ]
    },
    {
     "data": {
      "text/plain": [
       "<Figure size 500x500 with 1 Axes>"
      ],
      "image/png": "[encoded data removed]"
     },
     "metadata": {},
     "output_type": "display_data"
    }
   ],
   "execution_count": 5
  },
  {
   "metadata": {
    "ExecuteTime": {
     "end_time": "2024-05-20T19:23:42.436708Z",
     "start_time": "2024-05-20T19:23:42.318100Z"
    }
   },
   "cell_type": "code",
   "source": [
    "# Simplifying the number of Nobel prizes per country\n",
    "per_country = data.groupby('birth_country')['prize'].count().sort_values(ascending=False)\n",
    "\n",
    "def simplify(series: pd.Series) -> pd.Series:\n",
    "    summary = {'Other': 0}\n",
    "    for i in range(len(series)):\n",
    "        if series.iloc[i] >= 9:\n",
    "            summary.update({series.index[i]: series.iloc[i]})\n",
    "        else:\n",
    "            summary.update({'Other': series.iloc[i] + summary['Other']})\n",
    "    return pd.Series(summary)\n",
    "    \n",
    "simplified_country = simplify(per_country)\n",
    "print(simplified_country)\n",
    "\n",
    "# sns.catplot(data=simplified_country, x=simplified_country.index, y=simplified_country.values, kind='point')\n",
    "sns.scatterplot(data=simplified_country, y=simplified_country.index, x=simplified_country.values).set_title('Nobel Prize Winners per Country')\n",
    "plt.show()\n"
   ],
   "id": "e7bbce748ef8e533",
   "outputs": [
    {
     "name": "stdout",
     "output_type": "stream",
     "text": [
      "Other                       219\n",
      "United States of America    291\n",
      "United Kingdom               91\n",
      "Germany                      67\n",
      "France                       58\n",
      "Sweden                       30\n",
      "Japan                        28\n",
      "Canada                       21\n",
      "Netherlands                  19\n",
      "Switzerland                  19\n",
      "Russia                       18\n",
      "Italy                        18\n",
      "Austria                      16\n",
      "Norway                       13\n",
      "Denmark                      12\n",
      "China                        11\n",
      "Australia                    10\n",
      "Scotland                     10\n",
      "Belgium                       9\n",
      "South Africa                  9\n",
      "dtype: int64\n"
     ]
    },
    {
     "data": {
      "text/plain": [
       "<Figure size 640x480 with 1 Axes>"
      ],
      "image/png": "[encoded data removed]"
     },
     "metadata": {},
     "output_type": "display_data"
    }
   ],
   "execution_count": 53
  },
  {
   "metadata": {
    "ExecuteTime": {
     "end_time": "2024-05-18T20:58:52.253759Z",
     "start_time": "2024-05-18T20:58:52.246996Z"
    }
   },
   "cell_type": "code",
   "source": [
    "# Question 2\n",
    "# Finding the decade with the highest number of USA awards\n",
    "\n",
    "data['decade'] = (data.year/10).astype(int)*10\n",
    "usa = data[data.birth_country == 'United States of America']\n",
    "max_decade_usa = data.groupby('decade')['laureate_id'].agg('count').sort_values(ascending=False).index[0]\n",
    "print(max_decade_usa)"
   ],
   "id": "f27d3a0747f26416",
   "outputs": [
    {
     "name": "stdout",
     "output_type": "stream",
     "text": [
      "2000\n"
     ]
    }
   ],
   "execution_count": 8
  },
  {
   "metadata": {
    "ExecuteTime": {
     "end_time": "2024-05-20T19:28:35.389547Z",
     "start_time": "2024-05-20T19:28:35.387588Z"
    }
   },
   "cell_type": "code",
   "source": "# Plotting question 2\n",
   "id": "82177aea86877c7b",
   "outputs": [],
   "execution_count": 54
  },
  {
   "metadata": {
    "ExecuteTime": {
     "end_time": "2024-05-18T21:16:56.659884Z",
     "start_time": "2024-05-18T21:16:56.645908Z"
    }
   },
   "cell_type": "code",
   "source": [
    "# Question 3\n",
    "# Decade with  the highest female proportion\n",
    "\n",
    "sex_decade = data.pivot_table(index=['decade', 'category'], values='laureate_id', columns='sex', aggfunc='mean', fill_value=0)\n",
    "answer = sex_decade[sex_decade.Female == sex_decade.Female.max()].index[0]\n",
    "max_female_dict = {answer[0]: answer[1]}\n",
    "print(max_female_dict)"
   ],
   "id": "cd352105d9699663",
   "outputs": [
    {
     "name": "stdout",
     "output_type": "stream",
     "text": [
      "{2020: 'Economics'}\n"
     ]
    }
   ],
   "execution_count": 13
  },
  {
   "metadata": {
    "ExecuteTime": {
     "end_time": "2024-05-18T21:11:27.577968Z",
     "start_time": "2024-05-18T21:11:27.569917Z"
    }
   },
   "cell_type": "code",
   "source": [
    "nobel = data.__deepcopy__()\n",
    "nobel['female_winner'] = nobel['sex'] == 'Female'\n",
    "prop_female_winners = nobel.groupby(['decade', 'category'], as_index=False)['female_winner'].mean()\n",
    "\n",
    "# Find the decade and category with the highest proportion of female laureates\n",
    "max_female_decade_category = prop_female_winners[prop_female_winners['female_winner'] == prop_female_winners['female_winner'].max()][['decade', 'category']]\n",
    "\n",
    "# Create a dictionary with the decade and category pair\n",
    "max_female_dict = {max_female_decade_category['decade'].values[0]: max_female_decade_category['category'].values[0]}\n",
    "print(max_female_dict)"
   ],
   "id": "582981d45db5de49",
   "outputs": [
    {
     "name": "stdout",
     "output_type": "stream",
     "text": [
      "{2020: 'Literature'}\n"
     ]
    }
   ],
   "execution_count": 12
  },
  {
   "metadata": {
    "ExecuteTime": {
     "end_time": "2024-05-18T21:22:33.118163Z",
     "start_time": "2024-05-18T21:22:33.110199Z"
    }
   },
   "cell_type": "code",
   "source": [
    "# Question 4\n",
    "# First female to win a Nobel Prize\n",
    "\n",
    "only_female = data[data.sex == 'Female'][['year', 'category', 'full_name', 'sex']].sort_values(by='year', ascending=True)\n",
    "print(only_female)\n",
    "first_woman_name = only_female.full_name.iloc[0]\n",
    "first_woman_category = only_female.category.iloc[0]\n"
   ],
   "id": "df7201918f6915e3",
   "outputs": [
    {
     "name": "stdout",
     "output_type": "stream",
     "text": [
      "     year    category                                          full_name  \\\n",
      "19   1903     Physics                        Marie Curie, née Sklodowska   \n",
      "29   1905       Peace  Baroness Bertha Sophie Felicita von Suttner, n...   \n",
      "51   1909  Literature                      Selma Ottilia Lovisa Lagerlöf   \n",
      "62   1911   Chemistry                        Marie Curie, née Sklodowska   \n",
      "128  1926  Literature                                     Grazia Deledda   \n",
      "..    ...         ...                                                ...   \n",
      "982  2022  Literature                                       Annie Ernaux   \n",
      "993  2023     Physics                                    Anne L’Huillier   \n",
      "998  2023       Peace                                   Narges Mohammadi   \n",
      "989  2023    Medicine                                     Katalin Karikó   \n",
      "999  2023   Economics                                     Claudia Goldin   \n",
      "\n",
      "        sex  \n",
      "19   Female  \n",
      "29   Female  \n",
      "51   Female  \n",
      "62   Female  \n",
      "128  Female  \n",
      "..      ...  \n",
      "982  Female  \n",
      "993  Female  \n",
      "998  Female  \n",
      "989  Female  \n",
      "999  Female  \n",
      "\n",
      "[65 rows x 4 columns]\n"
     ]
    }
   ],
   "execution_count": 14
  },
  {
   "metadata": {
    "ExecuteTime": {
     "end_time": "2024-05-18T23:49:14.235819Z",
     "start_time": "2024-05-18T23:49:14.228592Z"
    }
   },
   "cell_type": "code",
   "source": [
    "# Question 5\n",
    "# Which individuals or organizations have won more than one Nobel Prize throughout the years?\n",
    "\n",
    "count_nobel = data.groupby('laureate_id', as_index=False)['full_name'].count()\n",
    "filtered = count_nobel[count_nobel.full_name >= 2]\n",
    "print(filtered)\n",
    "\n",
    "repeat_list = list(data[data.laureate_id.isin(filtered.laureate_id)].full_name.drop_duplicates())"
   ],
   "id": "e809765fe36ef651",
   "outputs": [
    {
     "name": "stdout",
     "output_type": "stream",
     "text": [
      "     laureate_id  full_name\n",
      "5              6          2\n",
      "64            66          2\n",
      "212          217          2\n",
      "217          222          2\n",
      "475          482          3\n",
      "507          515          2\n",
      "720          743          2\n"
     ]
    }
   ],
   "execution_count": 52
  },
  {
   "metadata": {
    "ExecuteTime": {
     "end_time": "2024-05-18T23:44:30.899044Z",
     "start_time": "2024-05-18T23:44:30.890792Z"
    }
   },
   "cell_type": "code",
   "source": "data[data.laureate_id == 743].full_name",
   "id": "2e25a06442834219",
   "outputs": [
    {
     "data": {
      "text/plain": [
       "721    K. Barry Sharpless\n",
       "975       Barry Sharpless\n",
       "Name: full_name, dtype: object"
      ]
     },
     "execution_count": 50,
     "metadata": {},
     "output_type": "execute_result"
    }
   ],
   "execution_count": 50
  }
 ],
 "metadata": {
  "kernelspec": {
   "display_name": "Python 3",
   "language": "python",
   "name": "python3"
  },
  "language_info": {
   "codemirror_mode": {
    "name": "ipython",
    "version": 2
   },
   "file_extension": ".py",
   "mimetype": "text/x-python",
   "name": "python",
   "nbconvert_exporter": "python",
   "pygments_lexer": "ipython2",
   "version": "2.7.6"
  }
 },
 "nbformat": 4,
 "nbformat_minor": 5
}

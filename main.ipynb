{
 "cells": [
  {
   "metadata": {},
   "cell_type": "markdown",
   "source": "# Datacamp Nobel Prize analysis",
   "id": "8a77807f92f26ee"
  },
  {
   "metadata": {
    "ExecuteTime": {
     "end_time": "2024-05-17T01:52:47.059303Z",
     "start_time": "2024-05-17T01:52:47.057535Z"
    }
   },
   "cell_type": "code",
   "source": [
    "# Import libraries\n",
    "import numpy as np\n",
    "import pandas as pd\n",
    "import matplotlib.pyplot as plt\n",
    "import seaborn as sns"
   ],
   "id": "7df9140457caed5e",
   "outputs": [],
   "execution_count": 1
  },
  {
   "metadata": {
    "ExecuteTime": {
     "end_time": "2024-05-17T01:55:52.126635Z",
     "start_time": "2024-05-17T01:55:52.095061Z"
    }
   },
   "cell_type": "code",
   "source": [
    "# Importing the data\n",
    "data = pd.read_csv('data/nobel.csv')\n",
    "\n",
    "# Exploring the data\n",
    "print(f'Data columns: {data.columns} \\n\\n')\n",
    "print(f'Data basic information: {data.info()}\\n\\n')\n",
    "print(f'Data sample rows: {data.head(3)}')"
   ],
   "id": "c2121b098bab551",
   "outputs": [
    {
     "name": "stdout",
     "output_type": "stream",
     "text": [
      "Data columns: Index(['year', 'category', 'prize', 'motivation', 'prize_share', 'laureate_id',\n",
      "       'laureate_type', 'full_name', 'birth_date', 'birth_city',\n",
      "       'birth_country', 'sex', 'organization_name', 'organization_city',\n",
      "       'organization_country', 'death_date', 'death_city', 'death_country'],\n",
      "      dtype='object') \n",
      "\n",
      "\n",
      "<class 'pandas.core.frame.DataFrame'>\n",
      "RangeIndex: 1000 entries, 0 to 999\n",
      "Data columns (total 18 columns):\n",
      " #   Column                Non-Null Count  Dtype \n",
      "---  ------                --------------  ----- \n",
      " 0   year                  1000 non-null   int64 \n",
      " 1   category              1000 non-null   object\n",
      " 2   prize                 1000 non-null   object\n",
      " 3   motivation            912 non-null    object\n",
      " 4   prize_share           1000 non-null   object\n",
      " 5   laureate_id           1000 non-null   int64 \n",
      " 6   laureate_type         1000 non-null   object\n",
      " 7   full_name             1000 non-null   object\n",
      " 8   birth_date            968 non-null    object\n",
      " 9   birth_city            964 non-null    object\n",
      " 10  birth_country         969 non-null    object\n",
      " 11  sex                   970 non-null    object\n",
      " 12  organization_name     736 non-null    object\n",
      " 13  organization_city     735 non-null    object\n",
      " 14  organization_country  735 non-null    object\n",
      " 15  death_date            596 non-null    object\n",
      " 16  death_city            579 non-null    object\n",
      " 17  death_country         585 non-null    object\n",
      "dtypes: int64(2), object(16)\n",
      "memory usage: 140.8+ KB\n",
      "Data basic information: None\n",
      "\n",
      "\n",
      "Data sample rows:    year    category                                           prize  \\\n",
      "0  1901   Chemistry               The Nobel Prize in Chemistry 1901   \n",
      "1  1901  Literature              The Nobel Prize in Literature 1901   \n",
      "2  1901    Medicine  The Nobel Prize in Physiology or Medicine 1901   \n",
      "\n",
      "                                          motivation prize_share  laureate_id  \\\n",
      "0  \"in recognition of the extraordinary services ...         1/1          160   \n",
      "1  \"in special recognition of his poetic composit...         1/1          569   \n",
      "2  \"for his work on serum therapy, especially its...         1/1          293   \n",
      "\n",
      "  laureate_type                     full_name  birth_date         birth_city  \\\n",
      "0    Individual  Jacobus Henricus van 't Hoff  1852-08-30          Rotterdam   \n",
      "1    Individual               Sully Prudhomme  1839-03-16              Paris   \n",
      "2    Individual        Emil Adolf von Behring  1854-03-15  Hansdorf (Lawice)   \n",
      "\n",
      "      birth_country   sex   organization_name organization_city  \\\n",
      "0       Netherlands  Male   Berlin University            Berlin   \n",
      "1            France  Male                 NaN               NaN   \n",
      "2  Prussia (Poland)  Male  Marburg University           Marburg   \n",
      "\n",
      "  organization_country  death_date death_city death_country  \n",
      "0              Germany  1911-03-01     Berlin       Germany  \n",
      "1                  NaN  1907-09-07   Châtenay        France  \n",
      "2              Germany  1917-03-31    Marburg       Germany  \n"
     ]
    }
   ],
   "execution_count": 2
  },
  {
   "metadata": {
    "ExecuteTime": {
     "end_time": "2024-05-17T01:56:00.411316Z",
     "start_time": "2024-05-17T01:56:00.399049Z"
    }
   },
   "cell_type": "code",
   "source": [
    "# Fixing the categories\n",
    "# data['year'] = data['year'].astype('category')\n",
    "data['category'] = data['category'].astype('category')\n",
    "data['prize_share'] = data['prize_share'].astype('category')\n",
    "data['laureate_type'] = data['laureate_type'].astype('category')\n",
    "data['sex'] = data['sex'].astype('category')\n",
    "\n",
    "data.info()"
   ],
   "id": "52d0e0645d17c97a",
   "outputs": [
    {
     "name": "stdout",
     "output_type": "stream",
     "text": [
      "<class 'pandas.core.frame.DataFrame'>\n",
      "RangeIndex: 1000 entries, 0 to 999\n",
      "Data columns (total 18 columns):\n",
      " #   Column                Non-Null Count  Dtype   \n",
      "---  ------                --------------  -----   \n",
      " 0   year                  1000 non-null   int64   \n",
      " 1   category              1000 non-null   category\n",
      " 2   prize                 1000 non-null   object  \n",
      " 3   motivation            912 non-null    object  \n",
      " 4   prize_share           1000 non-null   category\n",
      " 5   laureate_id           1000 non-null   int64   \n",
      " 6   laureate_type         1000 non-null   category\n",
      " 7   full_name             1000 non-null   object  \n",
      " 8   birth_date            968 non-null    object  \n",
      " 9   birth_city            964 non-null    object  \n",
      " 10  birth_country         969 non-null    object  \n",
      " 11  sex                   970 non-null    category\n",
      " 12  organization_name     736 non-null    object  \n",
      " 13  organization_city     735 non-null    object  \n",
      " 14  organization_country  735 non-null    object  \n",
      " 15  death_date            596 non-null    object  \n",
      " 16  death_city            579 non-null    object  \n",
      " 17  death_country         585 non-null    object  \n",
      "dtypes: category(4), int64(2), object(12)\n",
      "memory usage: 114.1+ KB\n"
     ]
    }
   ],
   "execution_count": 3
  },
  {
   "metadata": {
    "ExecuteTime": {
     "end_time": "2024-05-17T01:56:19.125520Z",
     "start_time": "2024-05-17T01:56:19.115588Z"
    }
   },
   "cell_type": "code",
   "source": [
    "# Question 1\n",
    "\n",
    "top_gender = data.groupby('sex')['laureate_id'].agg('count').sort_values(ascending=False).index[0]\n",
    "print(top_gender)\n",
    "\n",
    "top_country = data.groupby('birth_country')['laureate_id'].agg('count').sort_values(ascending=False).index[0]\n",
    "print(top_country)"
   ],
   "id": "d035ed3abc4a752",
   "outputs": [
    {
     "name": "stdout",
     "output_type": "stream",
     "text": [
      "Male\n",
      "United States of America\n"
     ]
    }
   ],
   "execution_count": 4
  },
  {
   "metadata": {
    "ExecuteTime": {
     "end_time": "2024-05-17T01:56:48.467516Z",
     "start_time": "2024-05-17T01:56:48.461487Z"
    }
   },
   "cell_type": "code",
   "source": [
    "# Question 2\n",
    "# Finding the decade with the highest number of USA awards\n",
    "\n",
    "data['decade'] = (data.year/10).astype(int)*10\n",
    "usa = data[data.birth_country == 'United States of America']\n",
    "max_decade_usa = data.groupby('decade')['laureate_id'].agg('count').sort_values(ascending=False).index[0]\n",
    "print(max_decade_usa)"
   ],
   "id": "f27d3a0747f26416",
   "outputs": [
    {
     "name": "stdout",
     "output_type": "stream",
     "text": [
      "2000\n"
     ]
    }
   ],
   "execution_count": 5
  },
  {
   "metadata": {
    "ExecuteTime": {
     "end_time": "2024-05-17T02:50:58.943982Z",
     "start_time": "2024-05-17T02:50:58.927786Z"
    }
   },
   "cell_type": "code",
   "source": [
    "# Question 3\n",
    "# Decade with  the highest female proportion\n",
    "\n",
    "sex_decade = data.pivot_table(index=['decade', 'category'], values='laureate_id', columns='sex', aggfunc=len, fill_value=0)\n",
    "answer = sex_decade[sex_decade.Female == sex_decade.Female.max()].index[0]\n",
    "max_female_dict = {}\n",
    "max_female_dict[answer[0]] = answer[1]"
   ],
   "id": "cd352105d9699663",
   "outputs": [],
   "execution_count": 29
  }
 ],
 "metadata": {
  "kernelspec": {
   "display_name": "Python 3",
   "language": "python",
   "name": "python3"
  },
  "language_info": {
   "codemirror_mode": {
    "name": "ipython",
    "version": 2
   },
   "file_extension": ".py",
   "mimetype": "text/x-python",
   "name": "python",
   "nbconvert_exporter": "python",
   "pygments_lexer": "ipython2",
   "version": "2.7.6"
  }
 },
 "nbformat": 4,
 "nbformat_minor": 5
}
